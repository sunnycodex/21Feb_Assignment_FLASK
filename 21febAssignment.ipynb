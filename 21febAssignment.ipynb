{
 "cells": [
  {
   "cell_type": "markdown",
   "id": "92509fd7-2cba-438a-bb3e-c094d1c6e0ab",
   "metadata": {},
   "source": [
    "1. GET and POST are two common HTTP methods that are used to send and receive data from a web server. In Flask, a Python web framework, you can use the `methods` argument of the `route` decorator to specify which methods a function can handle. For example:\n",
    "\n",
    "\n",
    "@app.route('/login', methods=['GET', 'POST'])\n",
    "def login():\n",
    "    # your code here\n",
    "\n",
    "\n",
    "This means that the `login` function can handle both GET and POST requests for the `/login` URL. \n",
    "\n",
    "A GET request is used to retrieve data from the server, such as a web page or a query result. The data is usually appended to the URL as query parameters. For example, if you want to search for \"flask\" on Google, you can use a GET request like this:\n",
    "\n",
    "`https://www.google.com/search?q=flask`\n",
    "\n",
    "A POST request is used to send data to the server, such as a form submission or an upload. The data is usually encoded in the body of the request, not in the URL. For example, if you want to log in to a website, you can use a POST request like this:\n",
    "\n",
    "`https://www.example.com/login`\n",
    "\n",
    "The body of the request may contain something like this:\n",
    "\n",
    "`username=alice&password=secret`\n",
    "\n",
    "In Flask, you can use the `request` object to access the data sent by GET or POST requests. For example, you can use `request.args` to get the query parameters of a GET request, or `request.form` to get the form data of a POST request. For example:\n",
    "\n",
    "\n",
    "from flask import request\n",
    "\n",
    "@app.route('/login', methods=['GET', 'POST'])\n",
    "def login():\n",
    "    if request.method == 'GET':\n",
    "        # display login form\n",
    "        return render_template('login.html')\n",
    "    elif request.method == 'POST':\n",
    "        # get form data\n",
    "        username = request.form['username']\n",
    "        password = request.form['password']\n",
    "        # validate credentials\n",
    "        if username == 'admin' and password == '1234':\n",
    "            # login successful\n",
    "            return 'Welcome, admin!'\n",
    "        else:\n",
    "            # login failed\n",
    "            return 'Invalid username or password.'\n"
   ]
  },
  {
   "cell_type": "markdown",
   "id": "54bcfc7b-27b6-4a1f-8dd2-bb489ecda756",
   "metadata": {},
   "source": [
    "2.Request is used in Flask to access the data sent from the client to the server. It is an object that contains various attributes and methods that allow you to retrieve information such as the HTTP method, the query string, the form data, the cookies, the files, and the headers. You can use request in your view functions to process the incoming data according to your application logic. For example, you can use request.args to get the query string parameters, request.form to get the form data, request.json to get the JSON object, request.files to get the uploaded files, and request.method to get the HTTP method. You can also use request.values to get a combined dictionary of both query string and form data"
   ]
  },
  {
   "cell_type": "markdown",
   "id": "8332d5e5-852c-48af-9c52-d250d27019a1",
   "metadata": {},
   "source": [
    "3.In Flask, the redirect() function is used to redirect the user's browser to a different URL. It is commonly used when you want to redirect the user to another page after they perform a certain action or when you want to handle a specific route by redirecting it to another route."
   ]
  },
  {
   "cell_type": "markdown",
   "id": "82d46bbe-dcc3-4a25-b3fc-df85c0b5f440",
   "metadata": {},
   "source": [
    "4.In Flask, templates are files that contain the structure and layout of web pages. They are used to separate the presentation logic from the application logic, allowing you to dynamically generate HTML pages based on data and render them to the user's browser."
   ]
  },
  {
   "cell_type": "code",
   "execution_count": null,
   "id": "943a3fe7-82b3-4b4f-83a6-6ac28bbd6315",
   "metadata": {},
   "outputs": [],
   "source": []
  }
 ],
 "metadata": {
  "kernelspec": {
   "display_name": "Python 3 (ipykernel)",
   "language": "python",
   "name": "python3"
  },
  "language_info": {
   "codemirror_mode": {
    "name": "ipython",
    "version": 3
   },
   "file_extension": ".py",
   "mimetype": "text/x-python",
   "name": "python",
   "nbconvert_exporter": "python",
   "pygments_lexer": "ipython3",
   "version": "3.10.8"
  }
 },
 "nbformat": 4,
 "nbformat_minor": 5
}
